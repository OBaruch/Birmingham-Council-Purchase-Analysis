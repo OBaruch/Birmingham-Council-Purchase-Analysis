# Import necessary libraries
import urllib.request
import json
import pandas as pd

# URL to access the dataset
url = 'https://birmingham-city-observatory.datopian.com/api/3/action/datastore_search?resource_id=b4a15ade-11b1-4c98-88a0-8cd8408212ac&limit=100000'

# Function to fetch data from the URL
def fetch_data(url):
    with urllib.request.urlopen(url) as response:
        data = json.loads(response.read().decode())
    return data

# Fetch the data
data = fetch_data(url)

# Extract records from the JSON response
records = data['result']['records']

# Convert to pandas DataFrame
df = pd.DataFrame(records)

# Display the first few rows of the DataFrame
print(df.head())
